{
 "cells": [
  {
   "cell_type": "code",
   "execution_count": 2,
   "id": "92754e84-dac2-4e65-9c27-d7e7e6e45a9d",
   "metadata": {},
   "outputs": [
    {
     "name": "stdout",
     "output_type": "stream",
     "text": [
      "hello jupyter lab\n"
     ]
    }
   ],
   "source": [
    "print(\"hello jupyter lab\")"
   ]
  },
  {
   "cell_type": "markdown",
   "id": "e3e6fb86-7ee8-4094-914d-acdc4a0260a0",
   "metadata": {},
   "source": [
    "*this is markdown hopefully*"
   ]
  },
  {
   "cell_type": "code",
   "execution_count": null,
   "id": "d4c6e182-0e00-4479-a378-7fe6701b0819",
   "metadata": {},
   "outputs": [],
   "source": []
  }
 ],
 "metadata": {
  "kernelspec": {
   "display_name": "Python 3 (ipykernel)",
   "language": "python",
   "name": "python3"
  },
  "language_info": {
   "codemirror_mode": {
    "name": "ipython",
    "version": 3
   },
   "file_extension": ".py",
   "mimetype": "text/x-python",
   "name": "python",
   "nbconvert_exporter": "python",
   "pygments_lexer": "ipython3",
   "version": "3.10.12"
  }
 },
 "nbformat": 4,
 "nbformat_minor": 5
}
